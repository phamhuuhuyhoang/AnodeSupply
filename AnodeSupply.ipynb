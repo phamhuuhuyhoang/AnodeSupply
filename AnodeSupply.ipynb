{
 "cells": [
  {
   "cell_type": "code",
   "execution_count": 2,
   "metadata": {},
   "outputs": [],
   "source": [
    "import numpy as np\n",
    "import pandas as pd\n",
    "import matplotlib.pyplot as plt\n"
   ]
  },
  {
   "cell_type": "markdown",
   "metadata": {},
   "source": [
    "# LLC converter design"
   ]
  },
  {
   "cell_type": "code",
   "execution_count": 196,
   "metadata": {},
   "outputs": [],
   "source": [
    "Vin = {'nom':300,\n",
    "       'min':270,\n",
    "       'max':330} # input voltage range standard 18-36 VDC bus\n",
    "Vout = {'nom':28,\n",
    "        'min':27,\n",
    "        'max':29} # output voltage 400V\n",
    "\n",
    "\n",
    "hb = 1 # half bridge config"
   ]
  },
  {
   "cell_type": "code",
   "execution_count": 197,
   "metadata": {},
   "outputs": [
    {
     "name": "stdout",
     "output_type": "stream",
     "text": [
      "5.892857142857143\n",
      "{'min': 1.0882142857142858, 'max': 1.450079365079365}\n"
     ]
    }
   ],
   "source": [
    "Mg={}\n",
    "Vf = 0.7\n",
    "Vloss = 0.5\n",
    "if hb:\n",
    "    bg = 0.5 # half bridge gain\n",
    "else:\n",
    "    bg = 1 # fullbridge gain\n",
    "    \n",
    "Mnom = 1.1\n",
    "n = Mnom*Vin['nom']*bg/(Vout['nom']) # assume a resonant gain of 1 nominal\n",
    "Mg['min']=Mnom*n*(Vout['min']+Vf)/(Vin['max']*bg)\n",
    "Mg['max'] = Mnom*n*(Vout['max']+Vf+Vloss)/(Vin['min']*bg)\n",
    "print(n)\n",
    "print(Mg)"
   ]
  },
  {
   "cell_type": "markdown",
   "metadata": {},
   "source": [
    "$$\n",
    "R_{ac} = \\frac{8}{\\pi^2}N^2R_{load}\n",
    "$$"
   ]
  },
  {
   "cell_type": "code",
   "execution_count": 199,
   "metadata": {},
   "outputs": [
    {
     "name": "stdout",
     "output_type": "stream",
     "text": [
      "Re: 3.136\n",
      "Rac: 88.27101518920469\n"
     ]
    }
   ],
   "source": [
    "Pout = 250.0 # output power in W\n",
    "Iout = {}\n",
    "Iout['nom'] = Pout/Vout['nom'] # nominal output current\n",
    "Re = Vout['nom']/Iout['nom'] # nominal output resistance\n",
    "Rac = 8*n**2*Re/(np.pi**2)\n",
    "\n",
    "print('Re: {}'.format(Re))\n",
    "print('Rac: {}'.format(Rac))"
   ]
  },
  {
   "cell_type": "markdown",
   "metadata": {},
   "source": [
    "$$ \n",
    "f_{r} = \\frac{1}{2\\pi\\sqrt{L_{r}C_{r}}},\n",
    "f_{n} = \\frac{f_{sw}}{f_{r}},\n",
    "L_{n} = \\frac{L_{m}}{L_{r}},\n",
    "Q_{e} = \\frac{\\sqrt{L_{r}/C_{r}}}{R_{l}}$$ \n",
    "<br/>\n",
    "<br/>\n",
    "$$\n",
    "M = \\left|\\frac{L_{n}*f_{n}^{2}}{((L_{n}+1)*f_{n}^{2}-1)+j*((f_{n}^{2}-1)*f_{n}*Q_{e}*L_{n})}\\right| \n",
    "$$"
   ]
  },
  {
   "cell_type": "code",
   "execution_count": 140,
   "metadata": {},
   "outputs": [
    {
     "data": {
      "image/png": "[encoded data removed]",
      "text/plain": [
       "<Figure size 432x288 with 1 Axes>"
      ]
     },
     "metadata": {
      "needs_background": "light"
     },
     "output_type": "display_data"
    }
   ],
   "source": [
    "def mge(fn,Qe,Ln):\n",
    "    # returns the gain of the resonant network given\n",
    "    # fn : normalized switching frequency fsw/fres\n",
    "    # Qe : quality factor sqrt(LrCr)/Rac\n",
    "    # Ln : ratio between resonant inductance and magnetizing inductance Lr/Lm\n",
    "    return np.abs((Ln*fn**2)/(((Ln+1)*fn**2-1)+1j*((fn**2-1)*fn*Qe*Ln)))\n",
    "\n",
    "fn = np.arange(0.1,10,0.01)\n",
    "Lm,Lr,Cr = 1e-3,1e-4,1e-9\n",
    "fr = 1/(2*np.pi*np.sqrt(Lr*Cr))\n",
    "Ln = Lm/Lr\n",
    "Qe = np.sqrt(Lr/Cr)/Re\n",
    "M1 = mge(fn,0.2,10)\n",
    "\n",
    "for x in np.arange(0.1,1,0.2):\n",
    "    M = mge(fn,x,8)\n",
    "    plt.semilogx(fn,M)\n",
    "\n"
   ]
  },
  {
   "cell_type": "markdown",
   "metadata": {},
   "source": [
    "$$\n",
    "Q_{max}Rac = \\sqrt{\\frac{L_{r}}{C_{r}}}\n",
    "$$\n",
    "<br/>\n",
    "$$\n",
    "C_{r} = \\frac{1}{(f_{r}2pi)^2L_{r}}\n",
    "$$"
   ]
  },
  {
   "cell_type": "code",
   "execution_count": 200,
   "metadata": {},
   "outputs": [
    {
     "name": "stdout",
     "output_type": "stream",
     "text": [
      "iteration limit reached\n",
      "M: 1.4796810902128132\n",
      "M desired: 1.450079365079365\n",
      "Ln: 1.9000000000000195\n",
      "Lr: 39.336551517484764\n",
      "Lm: 74.7394478832218\n",
      "Cr: 0.010303006210120008\n"
     ]
    }
   ],
   "source": [
    "# design procedure\n",
    "# design around a resonant frequency\n",
    "fr = 250.0e3\n",
    "# Pick a Qmax probably between 0.1 and 1\n",
    "Qmax = 0.7\n",
    "# pick an Ln value\n",
    "Ln = 10\n",
    "# find minimum normalized switching frequency, peak of curve\n",
    "M = mge(fn,Qmax,Ln)\n",
    "Mm = np.max(M)\n",
    "idx = 0\n",
    "while Mm-Mg['max'] < 0.1: # tune Ln until within +/- 0.1 of desired\n",
    "    if Mm < Mg['max']: # if max achievable is less than required max, increase Ln\n",
    "        Ln = Ln-0.1\n",
    "    else: # else decrease Ln\n",
    "        Ln = Ln+0.1 \n",
    "    Mm = np.max(mge(fn,Qmax,Ln))\n",
    "    idx = idx + 1\n",
    "    if idx > 1000:\n",
    "        print('iteration limit reached')\n",
    "        break\n",
    "\n",
    "print('M: {}'.format(Mm))\n",
    "print('M desired: {}'.format(Mg['max']))\n",
    "print('Ln: {}'.format(Ln))\n",
    "\n",
    "def LLC(fr,Qe,Ln,Rac):\n",
    "    Lr = (Qe*Rac)/(2*np.pi*fr)\n",
    "    Cr = 1/((fr*2*np.pi)**2*Lr)\n",
    "    Lm = Lr*Ln\n",
    "    \n",
    "    return Lr,Lm,Cr\n",
    "\n",
    "Lr,Lm,Cr = LLC(fr,Qmax,Ln,Rac)\n",
    "\n",
    "print('Lr: {}'.format(Lr*1e6))\n",
    "print('Lm: {}'.format(Lm*1e6))\n",
    "print('Cr: {}'.format(Cr*1e6))\n"
   ]
  },
  {
   "cell_type": "code",
   "execution_count": 55,
   "metadata": {},
   "outputs": [
    {
     "data": {
      "text/plain": [
       "0.3177432319023713"
      ]
     },
     "execution_count": 55,
     "metadata": {},
     "output_type": "execute_result"
    }
   ],
   "source": [
    "Rac"
   ]
  },
  {
   "cell_type": "code",
   "execution_count": null,
   "metadata": {},
   "outputs": [],
   "source": []
  }
 ],
 "metadata": {
  "kernelspec": {
   "display_name": "Python 3",
   "language": "python",
   "name": "python3"
  },
  "language_info": {
   "codemirror_mode": {
    "name": "ipython",
    "version": 3
   },
   "file_extension": ".py",
   "mimetype": "text/x-python",
   "name": "python",
   "nbconvert_exporter": "python",
   "pygments_lexer": "ipython3",
   "version": "3.7.7"
  }
 },
 "nbformat": 4,
 "nbformat_minor": 4
}
